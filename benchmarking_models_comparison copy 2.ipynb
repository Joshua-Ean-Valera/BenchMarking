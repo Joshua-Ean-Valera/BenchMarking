{
 "cells": [
  {
   "cell_type": "markdown",
   "id": "b19487e3",
   "metadata": {},
   "source": [
    "# Model Benchmarking and Selection\n",
    "This notebook benchmarks multiple ML and DL models on a randomly sampled subset of the dataset. It evaluates models using metrics such as accuracy, recall, precision, F1 score, MCC, MSE, RMSE, and R2, and visualizes confusion matrices. The best model is selected based on these metrics."
   ]
  },
  {
   "cell_type": "code",
   "execution_count": 45,
   "id": "1132539e",
   "metadata": {},
   "outputs": [],
   "source": [
    "# Import Required Libraries\n",
    "import pandas as pd\n",
    "import numpy as np\n",
    "import matplotlib.pyplot as plt\n",
    "import seaborn as sns\n",
    "import os\n",
    "import pickle\n",
    "import joblib\n",
    "from sklearn.metrics import (accuracy_score, recall_score, precision_score, f1_score, matthews_corrcoef, mean_squared_error, r2_score, confusion_matrix)"
   ]
  },
  {
   "cell_type": "markdown",
   "id": "d5f2fb7f",
   "metadata": {},
   "source": [
    "## Load Benchmark Dataset\n",
    "Load the benchmark dataset for model comparison."
   ]
  },
  {
   "cell_type": "code",
   "execution_count": 46,
   "id": "b35baef2",
   "metadata": {},
   "outputs": [
    {
     "name": "stdout",
     "output_type": "stream",
     "text": [
      "Benchmark dataset shape: (4314, 2)\n",
      "Label distribution: Label\n",
      "neutral     1438\n",
      "positive    1438\n",
      "negative    1438\n",
      "Name: count, dtype: int64\n"
     ]
    },
    {
     "data": {
      "text/html": [
       "<div>\n",
       "<style scoped>\n",
       "    .dataframe tbody tr th:only-of-type {\n",
       "        vertical-align: middle;\n",
       "    }\n",
       "\n",
       "    .dataframe tbody tr th {\n",
       "        vertical-align: top;\n",
       "    }\n",
       "\n",
       "    .dataframe thead th {\n",
       "        text-align: right;\n",
       "    }\n",
       "</style>\n",
       "<table border=\"1\" class=\"dataframe\">\n",
       "  <thead>\n",
       "    <tr style=\"text-align: right;\">\n",
       "      <th></th>\n",
       "      <th>Sentiment</th>\n",
       "      <th>Label</th>\n",
       "    </tr>\n",
       "  </thead>\n",
       "  <tbody>\n",
       "    <tr>\n",
       "      <th>0</th>\n",
       "      <td>siguruwun makapag tau oryentasyon miyembro gag...</td>\n",
       "      <td>neutral</td>\n",
       "    </tr>\n",
       "    <tr>\n",
       "      <th>1</th>\n",
       "      <td>school paryu iskwila grade</td>\n",
       "      <td>neutral</td>\n",
       "    </tr>\n",
       "    <tr>\n",
       "      <th>2</th>\n",
       "      <td>tandaan pagkopya parirala importante tandaan s...</td>\n",
       "      <td>neutral</td>\n",
       "    </tr>\n",
       "    <tr>\n",
       "      <th>3</th>\n",
       "      <td>kanakong rurugan</td>\n",
       "      <td>neutral</td>\n",
       "    </tr>\n",
       "    <tr>\n",
       "      <th>4</th>\n",
       "      <td>importante maintindiyan maray binasa itinau</td>\n",
       "      <td>neutral</td>\n",
       "    </tr>\n",
       "  </tbody>\n",
       "</table>\n",
       "</div>"
      ],
      "text/plain": [
       "                                           Sentiment    Label\n",
       "0  siguruwun makapag tau oryentasyon miyembro gag...  neutral\n",
       "1                         school paryu iskwila grade  neutral\n",
       "2  tandaan pagkopya parirala importante tandaan s...  neutral\n",
       "3                                   kanakong rurugan  neutral\n",
       "4        importante maintindiyan maray binasa itinau  neutral"
      ]
     },
     "execution_count": 46,
     "metadata": {},
     "output_type": "execute_result"
    }
   ],
   "source": [
    "# Load the benchmark dataset\n",
    "dataset_path = 'DATASET_BENCHMARK_SAMPLE.csv'\n",
    "sample_df = pd.read_csv(dataset_path)\n",
    "print(f\"Benchmark dataset shape: {sample_df.shape}\")\n",
    "print(f\"Label distribution: {sample_df['Label'].value_counts()}\")\n",
    "sample_df.head()"
   ]
  },
  {
   "cell_type": "markdown",
   "id": "c93102f4",
   "metadata": {},
   "source": [
    "## Load Models from Folder\n",
    "Load all ML and DL models and their associated vectorizers/tokenizers for benchmarking."
   ]
  },
  {
   "cell_type": "code",
   "execution_count": 47,
   "id": "862581ec",
   "metadata": {},
   "outputs": [
    {
     "name": "stderr",
     "output_type": "stream",
     "text": [
      "c:\\Users\\Joshua Ean\\AppData\\Local\\Programs\\Python\\Python311\\Lib\\site-packages\\keras\\src\\saving\\saving_lib.py:797: UserWarning: Skipping variable loading for optimizer 'adam', because it has 22 variables whereas the saved optimizer has 26 variables. \n",
      "  saveable.load_own_variables(weights_store.get(inner_path))\n"
     ]
    }
   ],
   "source": [
    "# Helper functions to load models and vectorizers/tokenizers\n",
    "def load_pickle(path):\n",
    "    with open(path, 'rb') as f:\n",
    "        return pickle.load(f)\n",
    "\n",
    "def load_joblib(path):\n",
    "    return joblib.load(path)\n",
    "\n",
    "def load_keras(path):\n",
    "    from tensorflow import keras\n",
    "    return keras.models.load_model(path)\n",
    "\n",
    "ml_folder = 'ML'\n",
    "dl_folder = 'DL'\n",
    "\n",
    "# Only use SVM and LSTM for comparison\n",
    "ml_models = {\n",
    "    'SVM': {\n",
    "        'model': load_joblib(os.path.join(ml_folder, 'SVM_model.obj')),\n",
    "        'vectorizer': load_joblib(os.path.join(ml_folder, 'SVM_tfidf_vectorizer.obj'))\n",
    "    }\n",
    "}\n",
    "dl_models = {\n",
    "    'LSTM': {\n",
    "        'model': load_keras(os.path.join(dl_folder, 'lstm_model.keras')),\n",
    "        'tokenizer': load_pickle(os.path.join(dl_folder, 'lstm_tokenizer.obj'))\n",
    "    }\n",
    "}"
   ]
  },
  {
   "cell_type": "markdown",
   "id": "d47e1859",
   "metadata": {},
   "source": [
    "## Benchmark Models on Sampled Dataset\n",
    "Use each loaded model to make predictions on the sampled dataset."
   ]
  },
  {
   "cell_type": "code",
   "execution_count": 48,
   "id": "5777ed1f",
   "metadata": {},
   "outputs": [
    {
     "name": "stdout",
     "output_type": "stream",
     "text": [
      "Starting benchmarking with 4314 samples\n",
      "Label distribution: Label\n",
      "neutral     1438\n",
      "positive    1438\n",
      "negative    1438\n",
      "Name: count, dtype: int64\n",
      "\n",
      "=== Benchmarking ML Models ===\n",
      "Processing SVM...\n",
      "SVM predictions: 4314\n",
      "\n",
      "=== Benchmarking DL Models ===\n",
      "Processing LSTM...\n",
      "X_seq shape: (4314, 100)\n",
      "SVM predictions: 4314\n",
      "\n",
      "=== Benchmarking DL Models ===\n",
      "Processing LSTM...\n",
      "X_seq shape: (4314, 100)\n",
      "\u001b[1m135/135\u001b[0m \u001b[32m━━━━━━━━━━━━━━━━━━━━\u001b[0m\u001b[37m\u001b[0m \u001b[1m7s\u001b[0m 49ms/step\n",
      "\u001b[1m135/135\u001b[0m \u001b[32m━━━━━━━━━━━━━━━━━━━━\u001b[0m\u001b[37m\u001b[0m \u001b[1m7s\u001b[0m 49ms/step\n",
      "Raw predictions shape: (4314, 3)\n",
      "LSTM final predictions: 4314\n",
      "\n",
      "Total models benchmarked: 2\n",
      "SVM: 4314 predictions\n",
      "LSTM: 4314 predictions\n",
      "Raw predictions shape: (4314, 3)\n",
      "LSTM final predictions: 4314\n",
      "\n",
      "Total models benchmarked: 2\n",
      "SVM: 4314 predictions\n",
      "LSTM: 4314 predictions\n"
     ]
    }
   ],
   "source": [
    "# Prepare X and y for benchmarking and run all models\n",
    "target_col = 'Label'  # Change if your target column is named differently\n",
    "X_sample = sample_df.drop(columns=[target_col])\n",
    "y_sample = sample_df[target_col]\n",
    "\n",
    "# Define DL input preparation function\n",
    "def prepare_dl_input(tokenizer, texts, maxlen=100):\n",
    "    sequences = tokenizer.texts_to_sequences(texts)\n",
    "    from tensorflow.keras.preprocessing.sequence import pad_sequences\n",
    "    return pad_sequences(sequences, maxlen=maxlen)\n",
    "\n",
    "print(f\"Starting benchmarking with {len(X_sample)} samples\")\n",
    "print(f\"Label distribution: {y_sample.value_counts()}\")\n",
    "\n",
    "results = {}\n",
    "\n",
    "# Benchmark ML models (SVM)\n",
    "print(\"\\n=== Benchmarking ML Models ===\")\n",
    "for name, items in ml_models.items():\n",
    "    print(f\"Processing {name}...\")\n",
    "    vectorizer = items['vectorizer']\n",
    "    model = items['model']\n",
    "    X_vec = vectorizer.transform(X_sample.squeeze().astype(str))\n",
    "    y_pred = model.predict(X_vec)\n",
    "    results[name] = {'y_true': y_sample, 'y_pred': y_pred}\n",
    "    print(f\"{name} predictions: {len(y_pred)}\")\n",
    "\n",
    "# Benchmark DL models (LSTM)  \n",
    "print(\"\\n=== Benchmarking DL Models ===\")\n",
    "for name, items in dl_models.items():\n",
    "    print(f\"Processing {name}...\")\n",
    "    tokenizer = items['tokenizer']\n",
    "    model = items['model']\n",
    "    X_seq = prepare_dl_input(tokenizer, X_sample.squeeze().astype(str))\n",
    "    print(f\"X_seq shape: {X_seq.shape}\")\n",
    "    y_pred = model.predict(X_seq)\n",
    "    print(f\"Raw predictions shape: {y_pred.shape}\")\n",
    "    # If output is probabilities, take argmax\n",
    "    if y_pred.ndim > 1 and y_pred.shape[1] > 1:\n",
    "        y_pred = np.argmax(y_pred, axis=1)\n",
    "    else:\n",
    "        y_pred = (y_pred > 0.5).astype(int).flatten()\n",
    "    results[name] = {'y_true': y_sample, 'y_pred': y_pred}\n",
    "    print(f\"{name} final predictions: {len(y_pred)}\")\n",
    "\n",
    "print(f\"\\nTotal models benchmarked: {len(results)}\")\n",
    "for name in results.keys():\n",
    "    print(f\"{name}: {len(results[name]['y_pred'])} predictions\")"
   ]
  },
  {
   "cell_type": "code",
   "execution_count": 49,
   "id": "c0f1620a",
   "metadata": {},
   "outputs": [],
   "source": [
    "# This cell has been consolidated into the previous cell\n",
    "# All benchmarking is now done in one place to avoid duplicates"
   ]
  },
  {
   "cell_type": "code",
   "execution_count": 50,
   "id": "57d10cf5",
   "metadata": {},
   "outputs": [],
   "source": [
    "# Define DL input preparation function if not already defined\n",
    "\n",
    "def prepare_dl_input(tokenizer, texts, maxlen=100):\n",
    "    sequences = tokenizer.texts_to_sequences(texts)\n",
    "    from tensorflow.keras.preprocessing.sequence import pad_sequences\n",
    "    return pad_sequences(sequences, maxlen=maxlen)"
   ]
  },
  {
   "cell_type": "code",
   "execution_count": 51,
   "id": "de7ad7b4",
   "metadata": {},
   "outputs": [],
   "source": [
    "# This cell has been consolidated into the main benchmarking cell\n",
    "# All DL benchmarking is now done in one place to avoid duplicates"
   ]
  },
  {
   "cell_type": "markdown",
   "id": "e156c704",
   "metadata": {},
   "source": [
    "## Calculate Metrics: Accuracy, Recall, Precision, F1 Score, MCC, MSE, RMSE, R2\n",
    "Compute all specified metrics for each model."
   ]
  },
  {
   "cell_type": "code",
   "execution_count": 52,
   "id": "fe967767",
   "metadata": {},
   "outputs": [],
   "source": [
    "# This duplicate cell has been removed\n",
    "# All benchmarking consolidated to avoid overwriting results"
   ]
  },
  {
   "cell_type": "markdown",
   "id": "f6c33ebb",
   "metadata": {},
   "source": [
    "## Display Confusion Matrix Heatmap\n",
    "Plot a confusion matrix heatmap for each model."
   ]
  },
  {
   "cell_type": "code",
   "execution_count": 53,
   "id": "05945fc4",
   "metadata": {},
   "outputs": [
    {
     "name": "stdout",
     "output_type": "stream",
     "text": [
      "\n",
      "=== SVM Model Analysis ===\n",
      "Total samples: 4314\n",
      "True labels distribution: Label\n",
      "neutral     1438\n",
      "positive    1438\n",
      "negative    1438\n",
      "Name: count, dtype: int64\n",
      "Predicted labels distribution: neutral     2091\n",
      "negative    1161\n",
      "positive    1062\n",
      "Name: count, dtype: int64\n",
      "Samples after cleaning: 4314\n"
     ]
    },
    {
     "data": {
      "image/png": "[encoded data removed]",
      "text/plain": [
       "<Figure size 800x600 with 2 Axes>"
      ]
     },
     "metadata": {},
     "output_type": "display_data"
    },
    {
     "name": "stdout",
     "output_type": "stream",
     "text": [
      "Confusion matrix total: 4314\n",
      "==================================================\n",
      "\n",
      "=== LSTM Model Analysis ===\n",
      "Total samples: 4314\n",
      "True labels distribution: Label\n",
      "neutral     1438\n",
      "positive    1438\n",
      "negative    1438\n",
      "Name: count, dtype: int64\n",
      "Predicted labels distribution: 2    1653\n",
      "1    1353\n",
      "0    1308\n",
      "Name: count, dtype: int64\n",
      "Samples after cleaning: 4314\n"
     ]
    },
    {
     "data": {
      "image/png": "[encoded data removed]",
      "text/plain": [
       "<Figure size 800x600 with 2 Axes>"
      ]
     },
     "metadata": {},
     "output_type": "display_data"
    },
    {
     "name": "stdout",
     "output_type": "stream",
     "text": [
      "Confusion matrix total: 4314\n",
      "==================================================\n"
     ]
    }
   ],
   "source": [
    "# Plot confusion matrix heatmap for each model\n",
    "for name, res in results.items():\n",
    "    y_true = res['y_true']\n",
    "    y_pred = res['y_pred']\n",
    "    \n",
    "    print(f\"\\n=== {name} Model Analysis ===\")\n",
    "    print(f\"Total samples: {len(y_true)}\")\n",
    "    print(f\"True labels distribution: {pd.Series(y_true).value_counts()}\")\n",
    "    print(f\"Predicted labels distribution: {pd.Series(y_pred).value_counts()}\")\n",
    "    \n",
    "    # Map to numerical values for confusion matrix\n",
    "    label_map = {'neutral': 0, 'positive': 1, 'negative': 2}\n",
    "    \n",
    "    # Convert true labels to numerical\n",
    "    if isinstance(y_true.iloc[0], str):\n",
    "        y_true_num = pd.Series(y_true).map(label_map)\n",
    "    else:\n",
    "        y_true_num = pd.Series(y_true)\n",
    "    \n",
    "    # Convert predicted labels to numerical  \n",
    "    if isinstance(y_pred[0], str):\n",
    "        y_pred_num = pd.Series(y_pred).map(label_map)\n",
    "    else:\n",
    "        y_pred_num = pd.Series(y_pred)\n",
    "    \n",
    "    # Remove any NaN values\n",
    "    mask = (~y_true_num.isna()) & (~y_pred_num.isna())\n",
    "    y_true_clean = y_true_num[mask]\n",
    "    y_pred_clean = y_pred_num[mask]\n",
    "    \n",
    "    print(f\"Samples after cleaning: {len(y_true_clean)}\")\n",
    "    \n",
    "    # Create confusion matrix with explicit labels\n",
    "    cm = confusion_matrix(y_true_clean, y_pred_clean, labels=[0, 1, 2])\n",
    "    \n",
    "    plt.figure(figsize=(8,6))\n",
    "    sns.heatmap(cm, annot=True, fmt='d', cmap='Blues', \n",
    "                xticklabels=['neutral', 'positive', 'negative'], \n",
    "                yticklabels=['neutral', 'positive', 'negative'])\n",
    "    plt.title(f'Confusion Matrix for {name} (Total: {cm.sum()})')\n",
    "    plt.xlabel('Predicted')\n",
    "    plt.ylabel('Actual')\n",
    "    plt.show()\n",
    "    \n",
    "    print(f\"Confusion matrix total: {cm.sum()}\")\n",
    "    print(\"=\"*50)"
   ]
  },
  {
   "cell_type": "markdown",
   "id": "b1000e3a",
   "metadata": {},
   "source": [
    "## Select and Display Best Model Based on Metrics\n",
    "Compare all models based on the computed metrics and display the best performing model."
   ]
  },
  {
   "cell_type": "code",
   "execution_count": 54,
   "id": "549bb0c3",
   "metadata": {},
   "outputs": [
    {
     "name": "stdout",
     "output_type": "stream",
     "text": [
      "Best model based on Accuracy: SVM\n",
      "Accuracy     0.779323\n",
      "Recall       0.779323\n",
      "Precision    0.819609\n",
      "F1 Score     0.781522\n",
      "MCC          0.687068\n",
      "MSE          0.447381\n",
      "RMSE         0.668865\n",
      "R2           0.328929\n",
      "Name: SVM, dtype: float64\n"
     ]
    },
    {
     "data": {
      "text/html": [
       "<div>\n",
       "<style scoped>\n",
       "    .dataframe tbody tr th:only-of-type {\n",
       "        vertical-align: middle;\n",
       "    }\n",
       "\n",
       "    .dataframe tbody tr th {\n",
       "        vertical-align: top;\n",
       "    }\n",
       "\n",
       "    .dataframe thead th {\n",
       "        text-align: right;\n",
       "    }\n",
       "</style>\n",
       "<table border=\"1\" class=\"dataframe\">\n",
       "  <thead>\n",
       "    <tr style=\"text-align: right;\">\n",
       "      <th></th>\n",
       "      <th>Accuracy</th>\n",
       "      <th>Recall</th>\n",
       "      <th>Precision</th>\n",
       "      <th>F1 Score</th>\n",
       "      <th>MCC</th>\n",
       "      <th>MSE</th>\n",
       "      <th>RMSE</th>\n",
       "      <th>R2</th>\n",
       "    </tr>\n",
       "  </thead>\n",
       "  <tbody>\n",
       "    <tr>\n",
       "      <th>SVM</th>\n",
       "      <td>0.779323</td>\n",
       "      <td>0.779323</td>\n",
       "      <td>0.819609</td>\n",
       "      <td>0.781522</td>\n",
       "      <td>0.687068</td>\n",
       "      <td>0.447381</td>\n",
       "      <td>0.668865</td>\n",
       "      <td>0.328929</td>\n",
       "    </tr>\n",
       "    <tr>\n",
       "      <th>LSTM</th>\n",
       "      <td>0.095271</td>\n",
       "      <td>0.095271</td>\n",
       "      <td>0.095323</td>\n",
       "      <td>0.095055</td>\n",
       "      <td>-0.358110</td>\n",
       "      <td>1.922809</td>\n",
       "      <td>1.386654</td>\n",
       "      <td>-1.884214</td>\n",
       "    </tr>\n",
       "  </tbody>\n",
       "</table>\n",
       "</div>"
      ],
      "text/plain": [
       "      Accuracy    Recall  Precision  F1 Score       MCC       MSE      RMSE  \\\n",
       "SVM   0.779323  0.779323   0.819609  0.781522  0.687068  0.447381  0.668865   \n",
       "LSTM  0.095271  0.095271   0.095323  0.095055 -0.358110  1.922809  1.386654   \n",
       "\n",
       "            R2  \n",
       "SVM   0.328929  \n",
       "LSTM -1.884214  "
      ]
     },
     "execution_count": 54,
     "metadata": {},
     "output_type": "execute_result"
    }
   ],
   "source": [
    "# Calculate metrics for each model and select best\n",
    "label_map = {'neutral': 0, 'positive': 1, 'negative': 2}\n",
    "metrics = {}\n",
    "for name, res in results.items():\n",
    "    y_true = res['y_true']\n",
    "    y_pred = res['y_pred']\n",
    "    # Determine if labels are strings or numbers\n",
    "    if isinstance(y_true.iloc[0], str):\n",
    "        if not isinstance(y_pred[0], str):\n",
    "            inv_label_map = {v: k for k, v in label_map.items()}\n",
    "            y_pred_class = pd.Series(y_pred).map(inv_label_map)\n",
    "        else:\n",
    "            y_pred_class = pd.Series(y_pred)\n",
    "        y_true_class = pd.Series(y_true)\n",
    "        y_true_num = y_true_class.map(label_map)\n",
    "        y_pred_num = y_pred_class.map(label_map) if isinstance(y_pred_class.iloc[0], str) else y_pred_class\n",
    "    else:\n",
    "        y_true_num = pd.Series(y_true)\n",
    "        y_pred_num = pd.Series(y_pred)\n",
    "        y_true_class = y_true_num\n",
    "        y_pred_class = y_pred_num\n",
    "    mask = (~y_true_class.isna()) & (~y_pred_class.isna())\n",
    "    y_true_class = y_true_class[mask]\n",
    "    y_pred_class = y_pred_class[mask]\n",
    "    y_true_num = y_true_num[mask]\n",
    "    y_pred_num = y_pred_num[mask]\n",
    "    metrics[name] = {\n",
    "        'Accuracy': accuracy_score(y_true_class, y_pred_class),\n",
    "        'Recall': recall_score(y_true_class, y_pred_class, average='weighted', zero_division=0),\n",
    "        'Precision': precision_score(y_true_class, y_pred_class, average='weighted', zero_division=0),\n",
    "        'F1 Score': f1_score(y_true_class, y_pred_class, average='weighted', zero_division=0),\n",
    "        'MCC': matthews_corrcoef(y_true_class, y_pred_class),\n",
    "        'MSE': mean_squared_error(y_true_num, y_pred_num),\n",
    "        'RMSE': np.sqrt(mean_squared_error(y_true_num, y_pred_num)),\n",
    "        'R2': r2_score(y_true_num, y_pred_num)\n",
    "    }\n",
    "metrics_df = pd.DataFrame(metrics).T\n",
    "best_model = metrics_df['Accuracy'].idxmax()\n",
    "print(f\"Best model based on Accuracy: {best_model}\")\n",
    "print(metrics_df.loc[best_model])\n",
    "\n",
    "metrics_df"
   ]
  }
 ],
 "metadata": {
  "kernelspec": {
   "display_name": "Python 3",
   "language": "python",
   "name": "python3"
  },
  "language_info": {
   "codemirror_mode": {
    "name": "ipython",
    "version": 3
   },
   "file_extension": ".py",
   "mimetype": "text/x-python",
   "name": "python",
   "nbconvert_exporter": "python",
   "pygments_lexer": "ipython3",
   "version": "3.11.9"
  }
 },
 "nbformat": 4,
 "nbformat_minor": 5
}
