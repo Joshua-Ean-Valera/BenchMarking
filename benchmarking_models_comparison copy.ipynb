{
 "cells": [
  {
   "cell_type": "markdown",
   "id": "b19487e3",
   "metadata": {},
   "source": [
    "# Model Benchmarking and Selection\n",
    "This notebook benchmarks multiple ML and DL models on a randomly sampled subset of the dataset. It evaluates models using metrics such as accuracy, recall, precision, F1 score, MCC, MSE, RMSE, and R2, and visualizes confusion matrices. The best model is selected based on these metrics."
   ]
  },
  {
   "cell_type": "code",
   "execution_count": 25,
   "id": "1132539e",
   "metadata": {},
   "outputs": [],
   "source": [
    "# Import Required Libraries\n",
    "import pandas as pd\n",
    "import numpy as np\n",
    "import matplotlib.pyplot as plt\n",
    "import seaborn as sns\n",
    "import os\n",
    "import pickle\n",
    "import joblib\n",
    "from sklearn.metrics import (accuracy_score, recall_score, precision_score, f1_score, matthews_corrcoef, mean_squared_error, r2_score, confusion_matrix)"
   ]
  },
  {
   "cell_type": "markdown",
   "id": "d5f2fb7f",
   "metadata": {},
   "source": [
    "## Load Dataset\n",
    "Load the main dataset for benchmarking."
   ]
  },
  {
   "cell_type": "code",
   "execution_count": 26,
   "id": "b35baef2",
   "metadata": {},
   "outputs": [
    {
     "name": "stdout",
     "output_type": "stream",
     "text": [
      "Dataset shape: (21584, 2)\n"
     ]
    },
    {
     "data": {
      "text/html": [
       "<div>\n",
       "<style scoped>\n",
       "    .dataframe tbody tr th:only-of-type {\n",
       "        vertical-align: middle;\n",
       "    }\n",
       "\n",
       "    .dataframe tbody tr th {\n",
       "        vertical-align: top;\n",
       "    }\n",
       "\n",
       "    .dataframe thead th {\n",
       "        text-align: right;\n",
       "    }\n",
       "</style>\n",
       "<table border=\"1\" class=\"dataframe\">\n",
       "  <thead>\n",
       "    <tr style=\"text-align: right;\">\n",
       "      <th></th>\n",
       "      <th>Sentiment</th>\n",
       "      <th>Label</th>\n",
       "    </tr>\n",
       "  </thead>\n",
       "  <tbody>\n",
       "    <tr>\n",
       "      <th>0</th>\n",
       "      <td>magmaan</td>\n",
       "      <td>positive</td>\n",
       "    </tr>\n",
       "    <tr>\n",
       "      <th>1</th>\n",
       "      <td>mahiwason</td>\n",
       "      <td>positive</td>\n",
       "    </tr>\n",
       "    <tr>\n",
       "      <th>2</th>\n",
       "      <td>simpleng baha nanaman lriga</td>\n",
       "      <td>negative</td>\n",
       "    </tr>\n",
       "    <tr>\n",
       "      <th>3</th>\n",
       "      <td>uda karapatan reklamo kadaklan bayad 3 taon ha...</td>\n",
       "      <td>negative</td>\n",
       "    </tr>\n",
       "    <tr>\n",
       "      <th>4</th>\n",
       "      <td>maray diri apektado</td>\n",
       "      <td>negative</td>\n",
       "    </tr>\n",
       "  </tbody>\n",
       "</table>\n",
       "</div>"
      ],
      "text/plain": [
       "                                           Sentiment     Label\n",
       "0                                            magmaan  positive\n",
       "1                                          mahiwason  positive\n",
       "2                        simpleng baha nanaman lriga  negative\n",
       "3  uda karapatan reklamo kadaklan bayad 3 taon ha...  negative\n",
       "4                                maray diri apektado  negative"
      ]
     },
     "execution_count": 26,
     "metadata": {},
     "output_type": "execute_result"
    }
   ],
   "source": [
    "# Load the dataset\n",
    "dataset_path = 'DATASET_FINAL_NO_STOPWORDS.csv'\n",
    "df = pd.read_csv(dataset_path)\n",
    "print(f\"Dataset shape: {df.shape}\")\n",
    "df.head()"
   ]
  },
  {
   "cell_type": "markdown",
   "id": "1414d824",
   "metadata": {},
   "source": [
    "## Select 20% Random Sample and Save\n",
    "Randomly select 20% of the dataset and save to a new CSV file for benchmarking."
   ]
  },
  {
   "cell_type": "code",
   "execution_count": 27,
   "id": "e9af7ee2",
   "metadata": {},
   "outputs": [
    {
     "name": "stdout",
     "output_type": "stream",
     "text": [
      "Sampled balanced dataset shape: (4314, 2)\n",
      "Label\n",
      "neutral     1438\n",
      "positive    1438\n",
      "negative    1438\n",
      "Name: count, dtype: int64\n"
     ]
    },
    {
     "data": {
      "text/html": [
       "<div>\n",
       "<style scoped>\n",
       "    .dataframe tbody tr th:only-of-type {\n",
       "        vertical-align: middle;\n",
       "    }\n",
       "\n",
       "    .dataframe tbody tr th {\n",
       "        vertical-align: top;\n",
       "    }\n",
       "\n",
       "    .dataframe thead th {\n",
       "        text-align: right;\n",
       "    }\n",
       "</style>\n",
       "<table border=\"1\" class=\"dataframe\">\n",
       "  <thead>\n",
       "    <tr style=\"text-align: right;\">\n",
       "      <th></th>\n",
       "      <th>Sentiment</th>\n",
       "      <th>Label</th>\n",
       "    </tr>\n",
       "  </thead>\n",
       "  <tbody>\n",
       "    <tr>\n",
       "      <th>17193</th>\n",
       "      <td>siguruwun makapag tau oryentasyon miyembro gag...</td>\n",
       "      <td>neutral</td>\n",
       "    </tr>\n",
       "    <tr>\n",
       "      <th>19167</th>\n",
       "      <td>school paryu iskwila grade</td>\n",
       "      <td>neutral</td>\n",
       "    </tr>\n",
       "    <tr>\n",
       "      <th>20409</th>\n",
       "      <td>tandaan pagkopya parirala importante tandaan s...</td>\n",
       "      <td>neutral</td>\n",
       "    </tr>\n",
       "    <tr>\n",
       "      <th>6591</th>\n",
       "      <td>kanakong rurugan</td>\n",
       "      <td>neutral</td>\n",
       "    </tr>\n",
       "    <tr>\n",
       "      <th>19008</th>\n",
       "      <td>importante maintindiyan maray binasa itinau</td>\n",
       "      <td>neutral</td>\n",
       "    </tr>\n",
       "  </tbody>\n",
       "</table>\n",
       "</div>"
      ],
      "text/plain": [
       "                                               Sentiment    Label\n",
       "17193  siguruwun makapag tau oryentasyon miyembro gag...  neutral\n",
       "19167                         school paryu iskwila grade  neutral\n",
       "20409  tandaan pagkopya parirala importante tandaan s...  neutral\n",
       "6591                                    kanakong rurugan  neutral\n",
       "19008        importante maintindiyan maray binasa itinau  neutral"
      ]
     },
     "execution_count": 27,
     "metadata": {},
     "output_type": "execute_result"
    }
   ],
   "source": [
    "# Select a balanced 20% random sample and save\n",
    "sentiments = ['neutral', 'positive', 'negative']\n",
    "sample_frac = 0.2\n",
    "n_total = int(len(df) * sample_frac)\n",
    "n_per_class = n_total // 3\n",
    "sample_df = pd.concat([df[df['Label'] == s].sample(n=n_per_class, random_state=42) for s in sentiments])\n",
    "sample_path = 'DATASET_BENCHMARK_SAMPLE.csv'\n",
    "sample_df.to_csv(sample_path, index=False)\n",
    "print(f\"Sampled balanced dataset shape: {sample_df.shape}\")\n",
    "print(sample_df['Label'].value_counts())\n",
    "sample_df.head()"
   ]
  },
  {
   "cell_type": "markdown",
   "id": "c93102f4",
   "metadata": {},
   "source": [
    "## Load Models from Folder\n",
    "Load all ML and DL models and their associated vectorizers/tokenizers for benchmarking."
   ]
  },
  {
   "cell_type": "code",
   "execution_count": 28,
   "id": "862581ec",
   "metadata": {},
   "outputs": [],
   "source": [
    "# Helper functions to load models and vectorizers/tokenizers\n",
    "def load_pickle(path):\n",
    "    with open(path, 'rb') as f:\n",
    "        return pickle.load(f)\n",
    "\n",
    "def load_joblib(path):\n",
    "    return joblib.load(path)\n",
    "\n",
    "def load_keras(path):\n",
    "    from tensorflow import keras\n",
    "    return keras.models.load_model(path)\n",
    "\n",
    "ml_folder = 'ML'\n",
    "dl_folder = 'DL'\n",
    "\n",
    "# Only use SVM and CNN for comparison\n",
    "ml_models = {\n",
    "    'SVM': {\n",
    "        'model': load_joblib(os.path.join(ml_folder, 'SVM_model.obj')),\n",
    "        'vectorizer': load_joblib(os.path.join(ml_folder, 'SVM_tfidf_vectorizer.obj'))\n",
    "    }\n",
    "}\n",
    "dl_models = {\n",
    "    'CNN': {\n",
    "        'model': load_keras(os.path.join(dl_folder, 'cnn_model.keras')),\n",
    "        'tokenizer': load_pickle(os.path.join(dl_folder, 'cnn_tokenizer.obj'))\n",
    "    }\n",
    "}"
   ]
  },
  {
   "cell_type": "markdown",
   "id": "d47e1859",
   "metadata": {},
   "source": [
    "## Benchmark Models on Sampled Dataset\n",
    "Use each loaded model to make predictions on the sampled dataset."
   ]
  },
  {
   "cell_type": "code",
   "execution_count": 29,
   "id": "5777ed1f",
   "metadata": {},
   "outputs": [],
   "source": [
    "# Prepare X and y for benchmarking\n",
    "# Ensure this cell is run before benchmarking models\n",
    "# If not present, add this before model benchmarking cells\n",
    "\n",
    "target_col = 'Label'  # Change if your target column is named differently\n",
    "X_sample = sample_df.drop(columns=[target_col])\n",
    "y_sample = sample_df[target_col]\n",
    "\n",
    "results = {}\n",
    "\n",
    "# Benchmark ML model (SVM only)\n",
    "for name, items in ml_models.items():\n",
    "    vectorizer = items['vectorizer']\n",
    "    model = items['model']\n",
    "    X_vec = vectorizer.transform(X_sample.squeeze().astype(str))\n",
    "    y_pred = model.predict(X_vec)\n",
    "    results[name] = {'y_true': y_sample, 'y_pred': y_pred}"
   ]
  },
  {
   "cell_type": "code",
   "execution_count": 30,
   "id": "c0f1620a",
   "metadata": {},
   "outputs": [],
   "source": [
    "# Benchmark ML models\n",
    "for name, items in ml_models.items():\n",
    "    vectorizer = items['vectorizer']\n",
    "    model = items['model']\n",
    "    X_vec = vectorizer.transform(X_sample.squeeze().astype(str))\n",
    "    y_pred = model.predict(X_vec)\n",
    "    results[name] = {'y_true': y_sample, 'y_pred': y_pred}"
   ]
  },
  {
   "cell_type": "code",
   "execution_count": 31,
   "id": "57d10cf5",
   "metadata": {},
   "outputs": [],
   "source": [
    "# Define DL input preparation function if not already defined\n",
    "\n",
    "def prepare_dl_input(tokenizer, texts, maxlen=100):\n",
    "    sequences = tokenizer.texts_to_sequences(texts)\n",
    "    from tensorflow.keras.preprocessing.sequence import pad_sequences\n",
    "    return pad_sequences(sequences, maxlen=maxlen)"
   ]
  },
  {
   "cell_type": "code",
   "execution_count": 32,
   "id": "de7ad7b4",
   "metadata": {},
   "outputs": [
    {
     "name": "stdout",
     "output_type": "stream",
     "text": [
      "\u001b[1m135/135\u001b[0m \u001b[32m━━━━━━━━━━━━━━━━━━━━\u001b[0m\u001b[37m\u001b[0m \u001b[1m1s\u001b[0m 5ms/step\n",
      "\u001b[1m135/135\u001b[0m \u001b[32m━━━━━━━━━━━━━━━━━━━━\u001b[0m\u001b[37m\u001b[0m \u001b[1m1s\u001b[0m 5ms/step\n"
     ]
    }
   ],
   "source": [
    "# Benchmark DL models\n",
    "for name, items in dl_models.items():\n",
    "    tokenizer = items['tokenizer']\n",
    "    model = items['model']\n",
    "    X_seq = prepare_dl_input(tokenizer, X_sample.squeeze().astype(str))\n",
    "    y_pred = model.predict(X_seq)\n",
    "    # If output is probabilities, take argmax\n",
    "    if y_pred.ndim > 1 and y_pred.shape[1] > 1:\n",
    "        y_pred = np.argmax(y_pred, axis=1)\n",
    "    else:\n",
    "        y_pred = (y_pred > 0.5).astype(int).flatten()\n",
    "    results[name] = {'y_true': y_sample, 'y_pred': y_pred}"
   ]
  },
  {
   "cell_type": "markdown",
   "id": "e156c704",
   "metadata": {},
   "source": [
    "## Calculate Metrics: Accuracy, Recall, Precision, F1 Score, MCC, MSE, RMSE, R2\n",
    "Compute all specified metrics for each model."
   ]
  },
  {
   "cell_type": "code",
   "execution_count": 33,
   "id": "fe967767",
   "metadata": {},
   "outputs": [
    {
     "name": "stdout",
     "output_type": "stream",
     "text": [
      "\u001b[1m135/135\u001b[0m \u001b[32m━━━━━━━━━━━━━━━━━━━━\u001b[0m\u001b[37m\u001b[0m \u001b[1m1s\u001b[0m 4ms/step\n",
      "\u001b[1m135/135\u001b[0m \u001b[32m━━━━━━━━━━━━━━━━━━━━\u001b[0m\u001b[37m\u001b[0m \u001b[1m1s\u001b[0m 4ms/step\n"
     ]
    }
   ],
   "source": [
    "# Benchmark DL model (CNN only)\n",
    "for name, items in dl_models.items():\n",
    "    tokenizer = items['tokenizer']\n",
    "    model = items['model']\n",
    "    X_seq = prepare_dl_input(tokenizer, X_sample.squeeze().astype(str))\n",
    "    y_pred = model.predict(X_seq)\n",
    "    # If output is probabilities, take argmax\n",
    "    if y_pred.ndim > 1 and y_pred.shape[1] > 1:\n",
    "        y_pred = np.argmax(y_pred, axis=1)\n",
    "    else:\n",
    "        y_pred = (y_pred > 0.5).astype(int).flatten()\n",
    "    results[name] = {'y_true': y_sample, 'y_pred': y_pred}"
   ]
  },
  {
   "cell_type": "markdown",
   "id": "f6c33ebb",
   "metadata": {},
   "source": [
    "## Display Confusion Matrix Heatmap\n",
    "Plot a confusion matrix heatmap for each model."
   ]
  },
  {
   "cell_type": "code",
   "execution_count": 34,
   "id": "05945fc4",
   "metadata": {},
   "outputs": [
    {
     "data": {
      "image/png": "[encoded data removed]",
      "text/plain": [
       "<Figure size 600x400 with 2 Axes>"
      ]
     },
     "metadata": {},
     "output_type": "display_data"
    },
    {
     "data": {
      "image/png": "[encoded data removed]",
      "text/plain": [
       "<Figure size 600x400 with 2 Axes>"
      ]
     },
     "metadata": {},
     "output_type": "display_data"
    }
   ],
   "source": [
    "# Plot confusion matrix heatmap for each model\n",
    "for name, res in results.items():\n",
    "    y_true = res['y_true']\n",
    "    y_pred = res['y_pred']\n",
    "    # Ensure both are string labels for confusion matrix\n",
    "    label_map = {'neutral': 0, 'positive': 1, 'negative': -1}\n",
    "    if not isinstance(y_true.iloc[0], str):\n",
    "        inv_label_map = {v: k for k, v in label_map.items()}\n",
    "        y_true_cm = pd.Series(y_true).map(inv_label_map)\n",
    "    else:\n",
    "        y_true_cm = pd.Series(y_true)\n",
    "    if not isinstance(y_pred[0], str):\n",
    "        inv_label_map = {v: k for k, v in label_map.items()}\n",
    "        y_pred_cm = pd.Series(y_pred).map(inv_label_map)\n",
    "    else:\n",
    "        y_pred_cm = pd.Series(y_pred)\n",
    "    # Filter out any NaNs that may have resulted from mapping\n",
    "    mask = (~y_true_cm.isna()) & (~y_pred_cm.isna())\n",
    "    y_true_cm = y_true_cm[mask]\n",
    "    y_pred_cm = y_pred_cm[mask]\n",
    "    cm = confusion_matrix(y_true_cm, y_pred_cm)\n",
    "    plt.figure(figsize=(6,4))\n",
    "    sns.heatmap(cm, annot=True, fmt='d', cmap='Blues')\n",
    "    plt.title(f'Confusion Matrix for {name}')\n",
    "    plt.xlabel('Predicted')\n",
    "    plt.ylabel('Actual')\n",
    "    plt.show()"
   ]
  },
  {
   "cell_type": "markdown",
   "id": "b1000e3a",
   "metadata": {},
   "source": [
    "## Select and Display Best Model Based on Metrics\n",
    "Compare all models based on the computed metrics and display the best performing model."
   ]
  },
  {
   "cell_type": "code",
   "execution_count": null,
   "id": "549bb0c3",
   "metadata": {},
   "outputs": [
    {
     "ename": "NameError",
     "evalue": "name 'metrics_df' is not defined",
     "output_type": "error",
     "traceback": [
      "\u001b[31m---------------------------------------------------------------------------\u001b[39m",
      "\u001b[31mNameError\u001b[39m                                 Traceback (most recent call last)",
      "\u001b[36mCell\u001b[39m\u001b[36m \u001b[39m\u001b[32mIn[35]\u001b[39m\u001b[32m, line 2\u001b[39m\n\u001b[32m      1\u001b[39m \u001b[38;5;66;03m# Select best model between SVM and CNN based on Accuracy\u001b[39;00m\n\u001b[32m----> \u001b[39m\u001b[32m2\u001b[39m best_model = \u001b[43mmetrics_df\u001b[49m[\u001b[33m'\u001b[39m\u001b[33mAccuracy\u001b[39m\u001b[33m'\u001b[39m].idxmax()\n\u001b[32m      3\u001b[39m \u001b[38;5;28mprint\u001b[39m(\u001b[33mf\u001b[39m\u001b[33m\"\u001b[39m\u001b[33mBest model based on Accuracy: \u001b[39m\u001b[38;5;132;01m{\u001b[39;00mbest_model\u001b[38;5;132;01m}\u001b[39;00m\u001b[33m\"\u001b[39m)\n\u001b[32m      4\u001b[39m \u001b[38;5;28mprint\u001b[39m(metrics_df.loc[best_model])\n",
      "\u001b[31mNameError\u001b[39m: name 'metrics_df' is not defined"
     ]
    }
   ],
   "source": [
    "# Calculate metrics for each model and select best\n",
    "label_map = {'neutral': 0, 'positive': 1, 'negative': -1}\n",
    "metrics = {}\n",
    "for name, res in results.items():\n",
    "    y_true = res['y_true']\n",
    "    y_pred = res['y_pred']\n",
    "    # Determine if labels are strings or numbers\n",
    "    if isinstance(y_true.iloc[0], str):\n",
    "        if not isinstance(y_pred[0], str):\n",
    "            inv_label_map = {v: k for k, v in label_map.items()}\n",
    "            y_pred_class = pd.Series(y_pred).map(inv_label_map)\n",
    "        else:\n",
    "            y_pred_class = pd.Series(y_pred)\n",
    "        y_true_class = pd.Series(y_true)\n",
    "        y_true_num = y_true_class.map(label_map)\n",
    "        y_pred_num = y_pred_class.map(label_map) if isinstance(y_pred_class.iloc[0], str) else y_pred_class\n",
    "    else:\n",
    "        y_true_num = pd.Series(y_true)\n",
    "        y_pred_num = pd.Series(y_pred)\n",
    "        y_true_class = y_true_num\n",
    "        y_pred_class = y_pred_num\n",
    "    mask = (~y_true_class.isna()) & (~y_pred_class.isna())\n",
    "    y_true_class = y_true_class[mask]\n",
    "    y_pred_class = y_pred_class[mask]\n",
    "    y_true_num = y_true_num[mask]\n",
    "    y_pred_num = y_pred_num[mask]\n",
    "    metrics[name] = {\n",
    "        'Accuracy': accuracy_score(y_true_class, y_pred_class),\n",
    "        'Recall': recall_score(y_true_class, y_pred_class, average='weighted', zero_division=0),\n",
    "        'Precision': precision_score(y_true_class, y_pred_class, average='weighted', zero_division=0),\n",
    "        'F1 Score': f1_score(y_true_class, y_pred_class, average='weighted', zero_division=0),\n",
    "        'MCC': matthews_corrcoef(y_true_class, y_pred_class),\n",
    "        'MSE': mean_squared_error(y_true_num, y_pred_num),\n",
    "        'RMSE': np.sqrt(mean_squared_error(y_true_num, y_pred_num)),\n",
    "        'R2': r2_score(y_true_num, y_pred_num)\n",
    "    }\n",
    "metrics_df = pd.DataFrame(metrics).T\n",
    "best_model = metrics_df['Accuracy'].idxmax()\n",
    "print(f\"Best model based on Accuracy: {best_model}\")\n",
    "print(metrics_df.loc[best_model])"
   ]
  }
 ],
 "metadata": {
  "kernelspec": {
   "display_name": "Python 3",
   "language": "python",
   "name": "python3"
  },
  "language_info": {
   "codemirror_mode": {
    "name": "ipython",
    "version": 3
   },
   "file_extension": ".py",
   "mimetype": "text/x-python",
   "name": "python",
   "nbconvert_exporter": "python",
   "pygments_lexer": "ipython3",
   "version": "3.11.9"
  }
 },
 "nbformat": 4,
 "nbformat_minor": 5
}
